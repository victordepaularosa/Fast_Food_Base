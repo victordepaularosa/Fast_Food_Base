{
 "cells": [
  {
   "cell_type": "code",
   "execution_count": 0,
   "metadata": {
    "application/vnd.databricks.v1+cell": {
     "cellMetadata": {
      "byteLimit": 2048000,
      "rowLimit": 10000
     },
     "inputWidgets": {},
     "nuid": "6744ccb5-3ce7-4a84-a20c-9901183ebaf4",
     "showTitle": true,
     "title": "Caminho das Pastas"
    }
   },
   "outputs": [],
   "source": [
    "caminho_origem = \"/FileStore/tables/projeto_fast_food/bronze/\"\n",
    "caminho_destino = \"/FileStore/tables/projeto_fast_food/silver/\"\n",
    "tabela_origem = \"bronze_fast_food\""
   ]
  },
  {
   "cell_type": "code",
   "execution_count": 0,
   "metadata": {
    "application/vnd.databricks.v1+cell": {
     "cellMetadata": {
      "byteLimit": 2048000,
      "implicitDf": true,
      "rowLimit": 10000
     },
     "inputWidgets": {},
     "nuid": "d3150dc8-9383-49ef-a587-e4347d3507ad",
     "showTitle": true,
     "title": "Ler o arquivo e criar o View Temporária de Fast Food"
    }
   },
   "outputs": [],
   "source": [
    "df_fast_food = spark.read.format(\"delta\").load(caminho_origem + tabela_origem)\n",
    "\n",
    "df_fast_food.createOrReplaceTempView(\"vw_fast_food\")"
   ]
  },
  {
   "cell_type": "code",
   "execution_count": 0,
   "metadata": {
    "application/vnd.databricks.v1+cell": {
     "cellMetadata": {
      "byteLimit": 2048000,
      "rowLimit": 10000
     },
     "inputWidgets": {},
     "nuid": "a023d96e-5113-40f1-a828-8805bec168b2",
     "showTitle": true,
     "title": "Tratar as Colunas da Tabela Fast Food"
    }
   },
   "outputs": [],
   "source": [
    "df_fast_food = spark.sql(f\"\"\"\n",
    "    SELECT \n",
    "        UPPER(TRIM(restaurant))       AS RESTAURANTES,\n",
    "        UPPER(TRIM(item))             AS PRATOS,\n",
    "        CAST(calories AS INT)         AS CALORIAS,\n",
    "        CAST(cal_fat AS INT)          AS CALORIAS_DE_GORDURA,\n",
    "        CAST(total_fat AS INT)        AS CALORIAS_TOTAIS,\n",
    "        CAST(sat_fat AS FLOAT)        AS GORDURA_SATURADA,\n",
    "        CAST(trans_fat AS FLOAT)      AS GORDURA_TRANS,\n",
    "        CAST(cholesterol AS INT)      AS COLESTEROL,\n",
    "        CAST(sodium AS INT)           AS SODIO,\n",
    "        CAST(total_carb AS INT)       AS TOTAL_DE_CARBOIDRATOS,\n",
    "        CAST(fiber AS INT)            AS FIBRAS,\n",
    "        CAST(sugar AS INT)            AS ACUCAR,\n",
    "        CAST(protein AS INT)          AS PROTEINAS,\n",
    "        CAST(vit_a AS INT)            AS VITAMINA_A,\n",
    "        CAST(vit_c AS INT)            AS VITAMINA_C,\n",
    "        CAST(calcium AS INT)          AS CALCIO,\n",
    "        UPPER(TRIM(salad))            AS SALADA\n",
    "    \n",
    "    FROM vw_fast_food                      \n",
    "\"\"\")"
   ]
  },
  {
   "cell_type": "code",
   "execution_count": 0,
   "metadata": {
    "application/vnd.databricks.v1+cell": {
     "cellMetadata": {
      "byteLimit": 2048000,
      "rowLimit": 10000
     },
     "inputWidgets": {},
     "nuid": "d4ee078d-0a25-42a2-a41e-ac9cbdd9dafd",
     "showTitle": true,
     "title": "Salvar Tabela \"silver_fast_food\""
    }
   },
   "outputs": [],
   "source": [
    "tabela_destino= \"silver_fast_food\"\n",
    "\n",
    "df_fast_food.write.format(\"delta\").mode(\"overwrite\").save(caminho_destino + tabela_destino)"
   ]
  },
  {
   "cell_type": "code",
   "execution_count": 0,
   "metadata": {
    "application/vnd.databricks.v1+cell": {
     "cellMetadata": {
      "byteLimit": 2048000,
      "implicitDf": true,
      "rowLimit": 10000
     },
     "inputWidgets": {},
     "nuid": "edb2a413-d674-4797-8dd1-28319de70090",
     "showTitle": true,
     "title": "Recriar View Temporária \"vw_fast_food\""
    }
   },
   "outputs": [],
   "source": [
    "df_fast_food.createOrReplaceTempView(\"vw_fast_food\")"
   ]
  },
  {
   "cell_type": "code",
   "execution_count": 0,
   "metadata": {
    "application/vnd.databricks.v1+cell": {
     "cellMetadata": {
      "byteLimit": 2048000,
      "rowLimit": 10000
     },
     "inputWidgets": {},
     "nuid": "7eb6377c-4cf6-45bb-9bcb-edabe0b83456",
     "showTitle": true,
     "title": "Criar Dataframe dos Restaurantes"
    }
   },
   "outputs": [],
   "source": [
    "df_restaurantes = spark.sql(f\"\"\"\n",
    "    SELECT \n",
    "        monotonically_increasing_id() + 1 AS ID_RESTAURANTES, \n",
    "        RESTAURANTES\n",
    "    \n",
    "    FROM (SELECT DISTINCT RESTAURANTES\n",
    "          FROM vw_fast_food)                      \n",
    "\"\"\")"
   ]
  },
  {
   "cell_type": "code",
   "execution_count": 0,
   "metadata": {
    "application/vnd.databricks.v1+cell": {
     "cellMetadata": {
      "byteLimit": 2048000,
      "rowLimit": 10000
     },
     "inputWidgets": {},
     "nuid": "91348921-d230-4114-a9c6-03450120adca",
     "showTitle": true,
     "title": "Salvar Tabela \"silver_restaurantes\""
    }
   },
   "outputs": [],
   "source": [
    "tabela_destino= \"silver_restaurantes\"\n",
    "\n",
    "df_restaurantes.write.format(\"delta\").mode(\"overwrite\").save(caminho_destino + tabela_destino)"
   ]
  },
  {
   "cell_type": "code",
   "execution_count": 0,
   "metadata": {
    "application/vnd.databricks.v1+cell": {
     "cellMetadata": {
      "byteLimit": 2048000,
      "rowLimit": 10000
     },
     "inputWidgets": {},
     "nuid": "389fc064-a8a6-480a-8d40-617e838c246e",
     "showTitle": true,
     "title": "Criar Dataframe dos Pratos"
    }
   },
   "outputs": [],
   "source": [
    "df_pratos = spark.sql(f\"\"\"\n",
    "    SELECT \n",
    "        monotonically_increasing_id() + 1 AS ID_PRATOS, \n",
    "        PRATOS\n",
    "    \n",
    "    FROM (SELECT DISTINCT PRATOS\n",
    "          FROM vw_fast_food)                      \n",
    "\"\"\")"
   ]
  },
  {
   "cell_type": "code",
   "execution_count": 0,
   "metadata": {
    "application/vnd.databricks.v1+cell": {
     "cellMetadata": {
      "byteLimit": 2048000,
      "rowLimit": 10000
     },
     "inputWidgets": {},
     "nuid": "09ff5ebb-6c6d-46de-bb9d-556a3ea28f70",
     "showTitle": false,
     "title": ""
    }
   },
   "outputs": [
    {
     "output_type": "display_data",
     "data": {
      "text/html": [
       "<style scoped>\n",
       "  .table-result-container {\n",
       "    max-height: 300px;\n",
       "    overflow: auto;\n",
       "  }\n",
       "  table, th, td {\n",
       "    border: 1px solid black;\n",
       "    border-collapse: collapse;\n",
       "  }\n",
       "  th, td {\n",
       "    padding: 5px;\n",
       "  }\n",
       "  th {\n",
       "    text-align: left;\n",
       "  }\n",
       "</style><div class='table-result-container'><table class='table-result'><thead style='background-color: white'><tr><th>ID_PRATOS</th><th>PRATOS</th></tr></thead><tbody><tr><td>1</td><td>SONIC CHEESEBURGER W/ MUSTARD</td></tr><tr><td>2</td><td>FOOTLONG CORNED BEEF REUBEN</td></tr><tr><td>3</td><td>\"6\"\" SUBWAY CLUB\"</td></tr><tr><td>4</td><td>SONIC BURGER W/ KETCHUP</td></tr><tr><td>5</td><td>ALL BEEF ALL-AMERICAN STYLE DOG – 6\"\"</td></tr><tr><td>6</td><td>CLASSIC FRENCH DIP & SWISS/AU JUS</td></tr><tr><td>7</td><td>CHILI CHEESE MEGA DOG</td></tr><tr><td>8</td><td>BBQ BACON KING</td></tr><tr><td>9</td><td>CRISPY BUFFALO CHICKEN MELT</td></tr><tr><td>10</td><td>OVEN ROASTED CHICKEN SALAD</td></tr><tr><td>11</td><td>CHICKEN DELUXE</td></tr><tr><td>12</td><td>CHICKEN, APPLE & CRANBERRY SALAD W/ CRISPY CHICKEN</td></tr><tr><td>13</td><td>DELUXE DOUBLE HAMBURGER</td></tr><tr><td>14</td><td>FOOTLONG TURKEY ITALIANO MELT (WITH PROVOLONE)</td></tr><tr><td>15</td><td>CLASSIC CHICKEN SANDWICH</td></tr><tr><td>16</td><td>4 PIECE CHICKEN MCNUGGETS</td></tr><tr><td>17</td><td>HALF POUND BEEF 'N CHEDDAR SANDWICH</td></tr><tr><td>18</td><td>CHIPOTLE CRISPY CHICKEN GRILLER</td></tr><tr><td>19</td><td>ROAST TURKEY FARMHOUSE SALAD</td></tr><tr><td>20</td><td>\"6\"\" ROTISSERIE STYLE CHICKEN\"</td></tr><tr><td>21</td><td>PREMIUM BACON RANCH SALAD W/ CRISPY CHICKEN</td></tr><tr><td>22</td><td>SPICY DELUXE</td></tr><tr><td>23</td><td>DOUBLE BACON CHEESEBURGER</td></tr><tr><td>24</td><td>CRISPY CHICKEN BLT SALAD</td></tr><tr><td>25</td><td>NACHO CHEESE DORITOS® LOCOS TACOS SUPREME</td></tr><tr><td>26</td><td>\"6\"\" CORNED BEEF REUBEN\"</td></tr><tr><td>27</td><td>JALAPENO ROAST BEEF 'N CHEESE SLIDER</td></tr><tr><td>28</td><td>SOURDOUGH KING DOUBLE</td></tr><tr><td>29</td><td>BACON CHEESE DOG</td></tr><tr><td>30</td><td>\"6\"\" BIG HOT PASTRAMI\"</td></tr><tr><td>31</td><td>TUNA SALAD</td></tr><tr><td>32</td><td>CHALUPA SUPREME® - CHICKEN</td></tr><tr><td>33</td><td>MEXICAN PIZZA</td></tr><tr><td>34</td><td>FOOTLONG STEAK AND CHEESE</td></tr><tr><td>35</td><td>1/2 LB. GRILLBURGER WITH CHEESE</td></tr><tr><td>36</td><td>\"6\"\" TUNA\"</td></tr><tr><td>37</td><td>COOL RANCH® DORITOS® LOCOS TACO SUPREME</td></tr><tr><td>38</td><td>GARLIC WHITE CHEDDAR BURGER</td></tr><tr><td>39</td><td>HATCH GREEN CHILE CHEESEBURGER</td></tr><tr><td>40</td><td>CORNED BEEF 'N CHEESE SLIDER</td></tr><tr><td>41</td><td>DELUXE HAMBURGER</td></tr><tr><td>42</td><td>DQ ULTIMATE® BURGER</td></tr><tr><td>43</td><td>SHREDDED CHICKEN MINI QUESADILLA</td></tr><tr><td>44</td><td>CARVED TURKEY SALAD</td></tr><tr><td>45</td><td>MILD NAKED CHICKEN CHALUPA</td></tr><tr><td>46</td><td>SPICY CHICKEN CRUNCHWRAP SLIDER</td></tr><tr><td>47</td><td>REGULAR GRILLED CHICKEN SUB SANDWICH</td></tr><tr><td>48</td><td>DORITOS® CHEESY GORDITA CRUNCH - FIERY</td></tr><tr><td>49</td><td>BEEF CRUNCHY CHEESY CORE BURRITO</td></tr><tr><td>50</td><td>FRESCO CHICKEN SOFT TACO</td></tr><tr><td>51</td><td>1/2 LB.* COMBO BURRITO</td></tr><tr><td>52</td><td>CHEESY BEAN AND RICE BURRITO</td></tr><tr><td>53</td><td>SPICY CHICKEN NUGGETS</td></tr><tr><td>54</td><td>FOOTLONG SPICY ITALIAN</td></tr><tr><td>55</td><td>7-LAYER BURRITO</td></tr><tr><td>56</td><td>10 PIECE SWEET N' SPICY HONEY BBQ GLAZED TENDERS</td></tr><tr><td>57</td><td>\"6\"\" COLD CUT COMBO\"</td></tr><tr><td>58</td><td>6 PIECE SWEET N' SPICY HONEY BBQ GLAZED TENDERS</td></tr><tr><td>59</td><td>4 PIECE CHICKEN STRIP BASKET W/ COUNTRY GRAVY</td></tr><tr><td>60</td><td>BURRITO SUPREME® – BEEF</td></tr><tr><td>61</td><td>XXL GRILLED STUFT BURRITO - STEAK</td></tr><tr><td>62</td><td>4 PIECE SWEET N' SPICY HONEY BBQ GLAZED TENDERS</td></tr><tr><td>63</td><td>ALL BEEF NEW YORK DOG – 6\"\"</td></tr><tr><td>64</td><td>TRIPLE MELT BURRITO</td></tr><tr><td>65</td><td>FOOTLONG ITALIAN HERO</td></tr><tr><td>66</td><td>LARGE JUMBO POPCORN CHICKEN</td></tr><tr><td>67</td><td>20 PIECE CHICKEN MCNUGGETS</td></tr><tr><td>68</td><td>PREMIUM ASIAN SALAD W/ GRILLED CHICKEN</td></tr><tr><td>69</td><td>BACON KING JR</td></tr><tr><td>70</td><td>FARMHOUSE KING</td></tr><tr><td>71</td><td>CHICKEN FRIES</td></tr><tr><td>72</td><td>SPICY TRIPLE DOUBLE CRUNCHWRAP</td></tr><tr><td>73</td><td>WILD NAKED CHICKEN CHALUPA</td></tr><tr><td>74</td><td>ROAST TURKEY & SWISS SANDWICH</td></tr><tr><td>75</td><td>GREEK GYRO</td></tr><tr><td>76</td><td>\"6\"\" TURKEY & BACON AVOCADO\"</td></tr><tr><td>77</td><td>CHARGRILLED CHICKEN COOL WRAP</td></tr><tr><td>78</td><td>GRILLED CHICKEN SANDWICH</td></tr><tr><td>79</td><td>\"6\"\" B.L.T.\"</td></tr><tr><td>80</td><td>BIG PHILLY CHEESESTEAK SALAD</td></tr><tr><td>81</td><td>XXL GRILLED STUFT BURRITO - BEEF</td></tr><tr><td>82</td><td>TRIPLE MELT NACHOS</td></tr><tr><td>83</td><td>SONIC BURGER W/ MUSTARD</td></tr><tr><td>84</td><td>FOOTLONG VEGGIE PATTY</td></tr><tr><td>85</td><td>CARVED TURKEY & BACON W/ CHEESE SALAD</td></tr><tr><td>86</td><td>CHICKEN STRIP SANDWICH</td></tr><tr><td>87</td><td>3 PIECE CRISPY CHICKEN TENDER DINNER</td></tr><tr><td>88</td><td>STEAK SPICY CHEESY CORE BURRITO</td></tr><tr><td>89</td><td>NACHO CHEESE DORITOS® DOUBLE DECKER® TACO</td></tr><tr><td>90</td><td>GRILLED HOT DOG</td></tr><tr><td>91</td><td>BIG MAC</td></tr><tr><td>92</td><td>6 PIECE CHICKEN MCNUGGETS</td></tr><tr><td>93</td><td>BEEF 'N CHEDDAR CLASSIC</td></tr><tr><td>94</td><td>SOFT TACO-BEEF</td></tr><tr><td>95</td><td>LOBSTER ROLL</td></tr><tr><td>96</td><td>LOADED POTATO GRILLER</td></tr><tr><td>97</td><td>ROAST TURKEY, RANCH & BACON WRAP</td></tr><tr><td>98</td><td>\"6\"\" SUBWAY MELT (INCLUDES CHEESE)\"</td></tr><tr><td>99</td><td>SUBWAY CLUB SALAD</td></tr><tr><td>100</td><td>GRAND TURKEY CLUB</td></tr><tr><td>101</td><td>GRILLED STEAK SOFT TACO</td></tr><tr><td>102</td><td>FRESCO BURRITO SUPREME® – STEAK</td></tr><tr><td>103</td><td>\"6\"\" STEAK AND CHEESE\"</td></tr><tr><td>104</td><td>PREMIUM SOUTHWEST SALAD W/ CRISPY CHICKEN</td></tr><tr><td>105</td><td>BACON KING</td></tr><tr><td>106</td><td>STEAK FINGER BASKET</td></tr><tr><td>107</td><td>SMOTHERED BURRITO - BEEF</td></tr><tr><td>108</td><td>CHICKEN BURGER</td></tr><tr><td>109</td><td>GRILLED CHILI CHEESE DOG</td></tr><tr><td>110</td><td>CHEESE DOG</td></tr><tr><td>111</td><td>\"6\"\" SWEET ONION CHICKEN TERIYAKI\"</td></tr><tr><td>112</td><td>CHICKEN & BACON RANCH MELT SALAD (INCLUDES RANCH DRESSING)</td></tr><tr><td>113</td><td>DORITOS® CHEESY GORDITA CRUNCH - NACHO CHEESE</td></tr><tr><td>114</td><td>FIESTA TACO SALAD-BEEF</td></tr><tr><td>115</td><td>ROAST TURKEY, RANCH & BACON SANDWICH</td></tr><tr><td>116</td><td>CANTINA POWER BOWL - CHICKEN</td></tr><tr><td>117</td><td>DOUBLE TOSTADA</td></tr><tr><td>118</td><td>JR. DELUXE BURGER</td></tr><tr><td>119</td><td>SIDE CAESAR SALAD WITH DRESSING</td></tr><tr><td>120</td><td>MCDOUBLE</td></tr><tr><td>121</td><td>CRISPY ASIAGO CAESAR CHICKEN CLUB SANDWICH</td></tr><tr><td>122</td><td>SMALL SPICY JUMBO POPCORN CHICKEN</td></tr><tr><td>123</td><td>SMOKEHOUSE BEEF SHORT RIB SANDWICH</td></tr><tr><td>124</td><td>FOOTLONG ROAST BEEF</td></tr><tr><td>125</td><td>FIERY DORITOS® DOUBLE DECKER® TACO</td></tr><tr><td>126</td><td>STEAK QUESALUPA</td></tr><tr><td>127</td><td>PREMIUM SOUTHWEST SALAD W/O CHICKEN</td></tr><tr><td>128</td><td>4 PIECE SUPER CRUNCH CHICKEN STRIP DINNER</td></tr><tr><td>129</td><td>\"6\"\" ITALIAN B.M.T.\"</td></tr><tr><td>130</td><td>STEAK CRUNCHY CHEESY CORE BURRITO</td></tr><tr><td>131</td><td>BEEFY MINI QUESADILLA</td></tr><tr><td>132</td><td>PREMIUM ASIAN SALAD W/ CRISPY CHICKEN</td></tr><tr><td>133</td><td>4 PIECE CHICKEN NUGGETS</td></tr><tr><td>134</td><td>BACON CHEESEBURGER</td></tr><tr><td>135</td><td>GORDITA SUPREME® - STEAK</td></tr><tr><td>136</td><td>4 PIECE BUTTERMILK CRISPY CHICKEN TENDERS</td></tr><tr><td>137</td><td>6 PIECE BUTTERMILK CRISPY CHICKEN TENDERS</td></tr><tr><td>138</td><td>PREMIUM ASIAN SALAD W/O CHICKEN</td></tr><tr><td>139</td><td>PREMIUM BACON RANCH SALAD W/O CHICKEN</td></tr><tr><td>140</td><td>FOOTLONG CARVED TURKEY</td></tr><tr><td>141</td><td>\"6\"\" TURKEY BREAST & HAM\"</td></tr><tr><td>142</td><td>CHEESE & VEGGIES PIZZA</td></tr><tr><td>143</td><td>DOUBLE DECKER® TACO</td></tr><tr><td>144</td><td>STEAK QUESADILLA</td></tr><tr><td>145</td><td>CRISPY MAPLE BACON DIJON CHICKEN SANDWICH</td></tr><tr><td>146</td><td>FOOTLONG TURKEY & BACON AVOCADO</td></tr><tr><td>147</td><td>COLD CUT COMBO SALAD</td></tr><tr><td>148</td><td>1/4 LB. BACON CHEESE GRILLBURGER</td></tr><tr><td>149</td><td>JR. BURGER</td></tr><tr><td>150</td><td>AUTUMN CARVED TURKEY SALAD</td></tr><tr><td>151</td><td>SPICY ITALIAN SALAD</td></tr><tr><td>152</td><td>TURKEY 'N CHEESE SLIDER</td></tr><tr><td>153</td><td>SPICY CHICKEN SANDWICH</td></tr><tr><td>154</td><td>GRILLED ASIAGO CAESAR CHICKEN CLUB SANDWICH</td></tr><tr><td>155</td><td>CRISPY PICO GUACAMOLE CHICKEN SANDWICH</td></tr><tr><td>156</td><td>PECAN CHICKEN SALAD FLATBREAD</td></tr><tr><td>157</td><td>KIDS MINI SUB TURKEY BREAST</td></tr><tr><td>158</td><td>2 PIECE CHICK-N-STRIPS</td></tr><tr><td>159</td><td>DOUBLE ROAST BEEF</td></tr><tr><td>160</td><td>WHOPPER JR. W/ CHEESE</td></tr><tr><td>161</td><td>FRESCO BURRITO SUPREME® – CHICKEN</td></tr><tr><td>162</td><td>CHEESE QUESADILLA</td></tr><tr><td>163</td><td>CHEESY BACON PRETZEL DOG - 6 IN.</td></tr><tr><td>164</td><td>ROAST BEEF GYRO</td></tr><tr><td>165</td><td>CHICKEN, APPLE & CRANBERRY SALAD W/ GRILLED CHICKEN</td></tr><tr><td>166</td><td>FOOTLONG CHICKEN & BACON RANCH MELT</td></tr><tr><td>167</td><td>8 PIECE CHICKEN NUGGETS</td></tr><tr><td>168</td><td>SMALL JUMBO POPCORN CHICKEN</td></tr><tr><td>169</td><td>CHICKEN CAESAR SALAD W/ GRILLED CHICKEN</td></tr><tr><td>170</td><td>SUPER SONIC DOUBLE CHEESEBURGER W/ MAYO</td></tr><tr><td>171</td><td>FOOTLONG BIG HOT PASTRAMI</td></tr><tr><td>172</td><td>COOL RANCH HABANERO DOUBLE STACKED TACO</td></tr><tr><td>173</td><td>DOUBLE CHEESEBURGER</td></tr><tr><td>174</td><td>BOURBON BBQ BRISKET SANDWICH</td></tr><tr><td>175</td><td>SMOKE MOUNTAIN W/ BEEF SHORT RIB</td></tr><tr><td>176</td><td>DOUBLE DECKER® TACO SUPREME®</td></tr><tr><td>177</td><td>GORDITA SUPREME® – BEEF</td></tr><tr><td>178</td><td>CHILI CHEESE BURRITO</td></tr><tr><td>179</td><td>PECAN CHICKEN SALAD SANDWICH</td></tr><tr><td>180</td><td>DOUBLE HAMBURGER</td></tr><tr><td>181</td><td>SOURDOUGH CHICKEN CLUB</td></tr><tr><td>182</td><td>CHICKEN SOFT TACO</td></tr><tr><td>183</td><td>CLASSIC ROAST BEEF</td></tr><tr><td>184</td><td>2 PIECE PRIME-CUT CHICKEN TENDERS</td></tr><tr><td>185</td><td>6 PIECE GRILLED CHICKEN NUGGETS</td></tr><tr><td>186</td><td>FOOTLONG B.L.T.</td></tr><tr><td>187</td><td>6 PIECE CHICKEN NUGGETS</td></tr><tr><td>188</td><td>1/4 LB. MUSHROOM SWISS GRILLBURGER</td></tr><tr><td>189</td><td>CHALUPA SUPREME®–BEEF</td></tr><tr><td>190</td><td>BACON CHEESEBURGER DELUXE</td></tr><tr><td>191</td><td>CHICKEN SANDWICH</td></tr><tr><td>192</td><td>FOOTLONG TURKEY BREAST & HAM</td></tr><tr><td>193</td><td>20 PIECE BUTTERMILK CRISPY CHICKEN TENDERS</td></tr><tr><td>194</td><td>EXTRA LONG CHEESEBURGER</td></tr><tr><td>195</td><td>CRISPY CHICKEN WRAP</td></tr><tr><td>196</td><td>BOURBON BBQ STEAK SANDWICH</td></tr><tr><td>197</td><td>FOOTLONG BIG PHILLY CHEESESTEAK</td></tr><tr><td>198</td><td>1/4 LB. GRILLBURGER WITH CHEESE</td></tr><tr><td>199</td><td>COOL RANCH® DORITOS® DOUBLE DECKER® TACO</td></tr><tr><td>200</td><td>SUPER SONIC JALAPENO DOUBLE CHEESEBURGER</td></tr><tr><td>201</td><td>\"6\"\" OVEN ROASTED CHICKEN\"</td></tr><tr><td>202</td><td>CANTINA POWER BURRITO - STEAK</td></tr><tr><td>203</td><td>3 PIECE PRIME-CUT CHICKEN TENDERS</td></tr><tr><td>204</td><td>BACON & CHEESE WHOPPER</td></tr><tr><td>205</td><td>TURKEY BREAST SALAD</td></tr><tr><td>206</td><td>CHICKSTAR</td></tr><tr><td>207</td><td>CRISPY GARLIC WHITE CHEDDAR CHICKEN SANDWICH</td></tr><tr><td>208</td><td>BIG FISH SANDWICH</td></tr><tr><td>209</td><td>CHICKEN CORDON BLEU SANDWICH</td></tr><tr><td>210</td><td>CANTINA POWER BURRITO - VEGGIE</td></tr><tr><td>211</td><td>DOUBLE QUARTER POUNDER® WITH CHEESE</td></tr><tr><td>212</td><td>BUTTERMILK CHICKEN BACON & SWISS</td></tr><tr><td>213</td><td>GREEK GYRO SALAD</td></tr><tr><td>214</td><td>BBQ BACON CRISPY CHICKEN SANDWICH</td></tr><tr><td>215</td><td>BEEF QUESALUPA</td></tr><tr><td>216</td><td>REUBEN SANDWICH</td></tr><tr><td>217</td><td>1/2 LB. FLAMETHROWER® GRILLBURGER</td></tr><tr><td>218</td><td>BEEF SPICY CHEESY CORE BURRITO</td></tr><tr><td>219</td><td>FILET-O-FISH®</td></tr><tr><td>220</td><td>MAPLE BACON DIJON 1/4 LB BURGER</td></tr><tr><td>221</td><td>\"6\"\" MEATBALL MARINARA\"</td></tr><tr><td>222</td><td>FOOTLONG OVEN ROASTED CHICKEN</td></tr><tr><td>223</td><td>CRISPY CHICKEN QUESADILLA</td></tr><tr><td>224</td><td>GRILLED SIGNATURE SRIRACHA CHICKEN SANDWICH</td></tr><tr><td>225</td><td>RODEO BURGER</td></tr><tr><td>226</td><td>BEAN BURRITO</td></tr><tr><td>227</td><td>CHICKEN SALAD SANDWICH</td></tr><tr><td>228</td><td>ROAST BEEF 'N CHEESE SLIDER</td></tr><tr><td>229</td><td>FOOTLONG BBQ RIB SANDWICH</td></tr><tr><td>230</td><td>BLACK BEAN BURRITO</td></tr><tr><td>231</td><td>CRUNCHY TACO SUPREME®</td></tr><tr><td>232</td><td>JR. CHILI CHEESEBURGER</td></tr><tr><td>233</td><td>FOOTLONG QUARTER POUND CONEY</td></tr><tr><td>234</td><td>CRISPY SWEET BBQ BACON CHICKEN SANDWICH</td></tr><tr><td>235</td><td>GRILLED SWEET BBQ BACON CHICKEN SANDWICH</td></tr><tr><td>236</td><td>SUPER GREEK SALAD</td></tr><tr><td>237</td><td>PREMIUM SOUTHWEST SALAD W/ GRILLED CHICKEN</td></tr><tr><td>238</td><td>SONIC CHEESEBURGER W/ KETCHUP</td></tr><tr><td>239</td><td>GRILLED CHICKEN GARDEN GREENS SALAD</td></tr><tr><td>240</td><td>BEEFY FRITOS® BURRITO</td></tr><tr><td>241</td><td>DORITOS® CHEESY GORDITA CRUNCH - COOL RANCH</td></tr><tr><td>242</td><td>CHICKEN TENDER 'N CHEESE SLIDER</td></tr><tr><td>243</td><td>WHOPPER W/ CHEESE</td></tr><tr><td>244</td><td>\"6\"\" SUBWAY SEAFOOD SENSATION\"</td></tr><tr><td>245</td><td>CHEESE ROLL-UP</td></tr><tr><td>246</td><td>EXPRESS TACO SALAD W/ CHIPS</td></tr><tr><td>247</td><td>FIERY DORITOS® LOCOS TACO</td></tr><tr><td>248</td><td>STACKER</td></tr><tr><td>249</td><td>CRISPY BACON SMOKEHOUSE CHICKEN SANDWICH</td></tr><tr><td>250</td><td>ORIGINAL CHEESEBURGER</td></tr><tr><td>251</td><td>FOOTLONG COLD CUT COMBO</td></tr><tr><td>252</td><td>BEEFY CHEDDAR CRUNCHWRAP SLIDER</td></tr><tr><td>253</td><td>SONIC CHEESEBURGER W/ MAYONNAISE</td></tr><tr><td>254</td><td>GARLIC PARMESAN DUNKED ULTIMATE CHICKEN SANDWICH</td></tr><tr><td>255</td><td>\"6\"\" BIG PHILLY CHEESESTEAK\"</td></tr><tr><td>256</td><td>\"6\"\" SPICY ITALIAN\"</td></tr><tr><td>257</td><td>SWEET ONION CHICKEN TERIYAKI SALAD</td></tr><tr><td>258</td><td>ROTISSERIE-STYLE CHICKEN CAESAR WRAP</td></tr><tr><td>259</td><td>VEGGIE BURGER WITH MUSTARD</td></tr><tr><td>260</td><td>HAM & SWISS MELT</td></tr><tr><td>261</td><td>HAM 'N CHEESE SLIDER</td></tr><tr><td>262</td><td>\"6\"\" TURKEY ITALIANO MELT (WITH PROVOLONE)\"</td></tr><tr><td>263</td><td>SMOKEHOUSE BBQ BACON SANDWICH</td></tr><tr><td>264</td><td>CORN DOG</td></tr><tr><td>265</td><td>GRILLED BACON SMOKEHOUSE CHICKEN SANDWICH</td></tr><tr><td>266</td><td>CHICKEN ENCHILADAS MEAL KIT</td></tr><tr><td>267</td><td>BREADED MUSHROOMS</td></tr><tr><td>268</td><td>\"6\"\" ROAST BEEF\"</td></tr><tr><td>269</td><td>CHICKEN QUESARITO</td></tr><tr><td>270</td><td>MCCHICKEN</td></tr><tr><td>271</td><td>FOOTLONG TURKEY BREAST</td></tr><tr><td>272</td><td>BUFFALO CHICKEN SLIDER</td></tr><tr><td>273</td><td>FOOTLONG SUBWAY MELT (INCLUDES CHEESE)</td></tr><tr><td>274</td><td>BACON & SWISS SOURDOUGH KING</td></tr><tr><td>275</td><td>SIDE GARDEN SALAD AND AVOCADO RANCH DRESSING</td></tr><tr><td>276</td><td>MEXIMELT®</td></tr><tr><td>277</td><td>CHEESE PIZZA</td></tr><tr><td>278</td><td>12 PIECE GRILLED CHICKEN NUGGETS</td></tr><tr><td>279</td><td>RODEO CRISPY CHICKEN SANDWICH</td></tr><tr><td>280</td><td>STEAK QUESARITO</td></tr><tr><td>281</td><td>CHEESEBURGER</td></tr><tr><td>282</td><td>SPICY TOSTADA</td></tr><tr><td>283</td><td>8 PIECE GRILLED CHICKEN NUGGETS</td></tr><tr><td>284</td><td>5 PIECE SUPER CRUNCH CHICKEN STRIPS</td></tr><tr><td>285</td><td>PORK TENDERLOIN SANDWICH</td></tr><tr><td>286</td><td>\"6\"\" VEGGIE PATTY\"</td></tr><tr><td>287</td><td>DOUBLE CHICKEN SALAD</td></tr><tr><td>288</td><td>BUTTERMILK CHICKEN CORDON BLEU SANDWICH</td></tr><tr><td>289</td><td>MEATBALL MARINARA SALAD</td></tr><tr><td>290</td><td>FRESCO CRUNCHY TACO</td></tr><tr><td>291</td><td>3 PIECE SUPER CRUNCH CHICKEN STRIPS</td></tr><tr><td>292</td><td>CRISPY CHICKEN FARMHOUSE SALAD</td></tr><tr><td>293</td><td>TURKEY BREAST & HAM SALAD</td></tr><tr><td>294</td><td>GRILLED MAPLE BACON DIJON CHICKEN SANDWICH</td></tr><tr><td>295</td><td>SPICY GRILLED CHICKEN SUB SANDWICH</td></tr><tr><td>296</td><td>JALAPENO CHICKEN FRIES</td></tr><tr><td>297</td><td>SMOKEHOUSE BRISKET</td></tr><tr><td>298</td><td>PREMIUM BUTTERMILK CRISPY CHICKEN DELUXE SANDWICH</td></tr><tr><td>299</td><td>\"6\"\" CHICKEN & BACON RANCH MELT\"</td></tr><tr><td>300</td><td>BIG HOT PASTRAMI MELT SALAD</td></tr><tr><td>301</td><td>BEEF 'N CHEDDAR MID</td></tr><tr><td>302</td><td>FIERY DORITOS® LOCOS TACO SUPREME</td></tr><tr><td>303</td><td>DOUBLE QUARTER POUND KING</td></tr><tr><td>304</td><td>CHILI DOG</td></tr><tr><td>305</td><td>BLACK FOREST HAM SALAD</td></tr><tr><td>306</td><td>ITALIAN B.M.T.® SALAD</td></tr><tr><td>307</td><td>4 PIECE SPICY CHICKEN NUGGETS</td></tr><tr><td>308</td><td>FOOTLONG ITALIAN B.M.T.</td></tr><tr><td>309</td><td>VEGGIE DELITE SALAD</td></tr><tr><td>310</td><td>TURKEY AVOCADO CLUB</td></tr><tr><td>311</td><td>SOURDOUGH KING SINGLE</td></tr><tr><td>312</td><td>GARDEN GRILLED CHICKEN SALAD W/ CRISPY CHICKEN, NO DRESSING</td></tr><tr><td>313</td><td>NACHO CRUNCH DOUBLE STACKED TACO</td></tr><tr><td>314</td><td>CHEESY GORDITA CRUNCH</td></tr><tr><td>315</td><td>5 PIECE PRIME-CUT CHICKEN TENDERS</td></tr><tr><td>316</td><td>CRISPY FISH SANDWICH</td></tr><tr><td>317</td><td>\"6\"\" ITALIAN HERO\"</td></tr><tr><td>318</td><td>FOOTLONG SUBWAY SEAFOOD SENSATION</td></tr><tr><td>319</td><td>1/2 LB.* CHEESY POTATO BURRITO</td></tr><tr><td>320</td><td>CANTINA POWER BOWL - VEGGIE</td></tr><tr><td>321</td><td>HALF POUND ROAST BEEF SANDWICH</td></tr><tr><td>322</td><td>FOOTLONG CHICKEN PIZZIOLA MELT</td></tr><tr><td>323</td><td>\"6\"\" VEGGIE DELITE\"</td></tr><tr><td>324</td><td>SMOTHERED BURRITO - SHREDDED CHICKEN</td></tr><tr><td>325</td><td>CHILI CHEESE DOG</td></tr><tr><td>326</td><td>SPICY DOUBLE CHALUPA</td></tr><tr><td>327</td><td>GRILLED PICO GUACAMOLE CHICKEN SANDWICH</td></tr><tr><td>328</td><td>PREMIUM CRISPY CHICKEN DELUXE SANDWICH</td></tr><tr><td>329</td><td>ALL BEEF CHICAGO DOG – 6\"\"</td></tr><tr><td>330</td><td>CHICKEN BACON RANCH SANDWICH</td></tr><tr><td>331</td><td>FRESCO GRILLED STEAK SOFT TACO</td></tr><tr><td>332</td><td>VEGGIE BURGER W/ MUSTARD</td></tr><tr><td>333</td><td>SPICY CRISPY CHICKEN JR.</td></tr><tr><td>334</td><td>NACHOS BELLGRANDE®</td></tr><tr><td>335</td><td>JR. DOUBLE CHEESEBURGER</td></tr><tr><td>336</td><td>ULTIMATE BLT</td></tr><tr><td>337</td><td>SAUSAGE PIZZA</td></tr><tr><td>338</td><td>10 PIECE BUTTERMILK CRISPY CHICKEN TENDERS</td></tr><tr><td>339</td><td>DELUXE ULTIMATE CHICKEN SANDWICH</td></tr><tr><td>340</td><td>ULTIMATE CHICKEN CLUB</td></tr><tr><td>341</td><td>BUTTERMILK BUFFALO CHICKEN SANDWICH</td></tr><tr><td>342</td><td>CHICKEN BLT SALAD W/ GRILLED CHICKEN</td></tr><tr><td>343</td><td>FOOTLONG BLACK FOREST HAM</td></tr><tr><td>344</td><td>MCRIB</td></tr><tr><td>345</td><td>TRADITIONAL ULTIMATE CHICKEN SANDWICH</td></tr><tr><td>346</td><td>DOUBLE WHOPPER W/O CHEESE</td></tr><tr><td>347</td><td>KIDS MINI SUB ROAST BEEF</td></tr><tr><td>348</td><td>CHICKEN PARMESAN SANDWICH</td></tr><tr><td>349</td><td>SPICY CRISPY JALAPENO CHICKEN SANDWICH</td></tr><tr><td>350</td><td>6 PIECE CHICKEN STRIP BASKET W/ COUNTRY GRAVY</td></tr><tr><td>351</td><td>MUSHROOM & SWISS KING</td></tr><tr><td>352</td><td>BEEFY 5-LAYER BURRITO</td></tr><tr><td>353</td><td>GRILLED GARLIC WHITE CHEDDAR CHICKEN SANDWICH</td></tr><tr><td>354</td><td>RELISH DOG</td></tr><tr><td>355</td><td>3 CHICKEN STRIPS CHICKEN STRIPS</td></tr><tr><td>356</td><td>DOUBLE CHALUPA</td></tr><tr><td>357</td><td>4 PIECE GRILLED CHICKEN NUGGETS</td></tr><tr><td>358</td><td>ALL BEEF REGULAR HOT DOG – 6\"\"</td></tr><tr><td>359</td><td>\"6\"\" BBQ RIB SANDWICH\"</td></tr><tr><td>360</td><td>WHOPPER JR. W/O CHEESE</td></tr><tr><td>361</td><td>CRUNCHY TACO</td></tr><tr><td>362</td><td>THREE CHEESE STEAK SANDWICH</td></tr><tr><td>363</td><td>FIESTA TACO SALAD-CHICKEN</td></tr><tr><td>364</td><td>BURRITO SUPREME® - STEAK</td></tr><tr><td>365</td><td>BEEFY NACHO GRILLER</td></tr><tr><td>366</td><td>12 PIECE CHICKEN NUGGETS</td></tr><tr><td>367</td><td>BUFFALO DUNKED ULTIMATE CHICKEN SANDWICH</td></tr><tr><td>368</td><td>KIDS MINI SUB BLACK FOREST HAM</td></tr><tr><td>369</td><td>CHIPOTLE SOUTHWEST STEAK & CHEESE WRAP</td></tr><tr><td>370</td><td>CHARGRILLED CHICKEN CLUB SANDWICH</td></tr><tr><td>371</td><td>3 PIECE CHICK-N-STRIPS</td></tr><tr><td>372</td><td>TURKEY GYRO</td></tr><tr><td>373</td><td>SMOTHERED BURRITO - STEAK</td></tr><tr><td>374</td><td>TRIPLE LAYER NACHOS</td></tr><tr><td>375</td><td>CHICKEN NUGGETS (10PC)</td></tr><tr><td>376</td><td>CRUNCHWRAP SUPREME®</td></tr><tr><td>377</td><td>LARGE CHEESE CURDS</td></tr><tr><td>378</td><td>SONIC BACON CHEESEBURGER (W/MAYO)</td></tr><tr><td>379</td><td>PEPPERONI PIZZA</td></tr><tr><td>380</td><td>COOL RANCH® DORITOS® LOCOS TACO</td></tr><tr><td>381</td><td>CHICKEN QUESADILLA</td></tr><tr><td>382</td><td>FOOTLONG MEATBALL MARINARA</td></tr><tr><td>383</td><td>SUPER SONIC DOUBLE CHEESEBURGER W/ KETCHUP</td></tr><tr><td>384</td><td>20 PIECE CHICKEN NUGGETS</td></tr><tr><td>385</td><td>SPICY CRISPY CHICKEN SANDWICH</td></tr><tr><td>386</td><td>BARBECUE PORK SANDWICH</td></tr><tr><td>387</td><td>JR. DELUXE CHEESEBURGER</td></tr><tr><td>388</td><td>CRISPY CHICKEN GARDEN GREENS SALAD</td></tr><tr><td>389</td><td>CRISPY CHICKEN SANDWICH</td></tr><tr><td>390</td><td>ITALIAN HERO SALAD</td></tr><tr><td>391</td><td>SUBWAY MELT® SALAD</td></tr><tr><td>392</td><td>CHICKEN CRUNCHY CHEESY CORE BURRITO</td></tr><tr><td>393</td><td>LOADED TACO BURRITO</td></tr><tr><td>394</td><td>ORIGINAL CHICKEN SANDWICH</td></tr><tr><td>395</td><td>NACHO FRIES BELLGRANDE</td></tr><tr><td>396</td><td>CHICK-N-SLIDER</td></tr><tr><td>397</td><td>HOT DOG</td></tr><tr><td>398</td><td>TURKEY, BACON & GUACAMOLE WRAP</td></tr><tr><td>399</td><td>SHREDDED CHICKEN BURRITO</td></tr><tr><td>400</td><td>40 PIECE CHICKEN MCNUGGETS</td></tr><tr><td>401</td><td>SIDE SALAD</td></tr><tr><td>402</td><td>SUPER ROAST BEEF</td></tr><tr><td>403</td><td>JALAPENO KING SANDWICH</td></tr><tr><td>404</td><td>\"6\"\" CHICKEN PIZZIOLA MELT\"</td></tr><tr><td>405</td><td>10 PIECE CHICKEN MCNUGGETS</td></tr><tr><td>406</td><td>5 PIECE CRISPY CHICKEN TENDER DINNER</td></tr><tr><td>407</td><td>LARGE SPICY JUMBO POPCORN CHICKEN</td></tr><tr><td>408</td><td>BACON CHEDDAR RANCH CRISPY CHICKEN SANDWICH</td></tr><tr><td>409</td><td>FIESTA TACO SALAD-STEAK</td></tr><tr><td>410</td><td>1 PIECE CHICK-N-STRIPS</td></tr><tr><td>411</td><td>FOOTLONG TUNA</td></tr><tr><td>412</td><td>BUFFALO CHICKEN SALAD (WITH RANCH DRESSING)</td></tr><tr><td>413</td><td>TRIPLE DECKER SANDWICH</td></tr><tr><td>414</td><td>ARTISAN GRILLED CHICKEN SANDWICH</td></tr><tr><td>415</td><td>SIGNATURE SRIRACHA BURGER</td></tr><tr><td>416</td><td>WHOPPER W/O CHEESE</td></tr><tr><td>417</td><td>GARDEN GRILLED CHICKEN SALAD W/ GRILLED CHICKEN, NO DRESSING</td></tr><tr><td>418</td><td>\"6\"\" BLACK FOREST HAM\"</td></tr><tr><td>419</td><td>BEEF QUESARITO</td></tr><tr><td>420</td><td>AMERICAN BREWHOUSE KING</td></tr><tr><td>421</td><td>DOUBLE WHOPPER W/ CHEESE</td></tr><tr><td>422</td><td>DELUXE DOUBLE CHEESEBURGER</td></tr><tr><td>423</td><td>STEAK & CHEESE SALAD</td></tr><tr><td>424</td><td>KIDS MINI SUB VEGGIE DELITE</td></tr><tr><td>425</td><td>CHICKEN PARMESAN MEAL KIT</td></tr><tr><td>426</td><td>DELUXE CHEESEBURGER</td></tr><tr><td>427</td><td>CHARGRILLED CHICKEN SANDWICH</td></tr><tr><td>428</td><td>ROAST TURKEY & SWISS WRAP</td></tr><tr><td>429</td><td>5 PIECE SUPER CRUNCH CHICKEN STRIP DINNER</td></tr><tr><td>430</td><td>CHICKEN CAESAR SALAD W/ CRISPY CHICKEN</td></tr><tr><td>431</td><td>CHICKEN SPICY CHEESY CORE BURRITO</td></tr><tr><td>432</td><td>XXL GRILLED STUFT BURRITO - CHICKEN</td></tr><tr><td>433</td><td>SPICY POTATO SOFT TACO</td></tr><tr><td>434</td><td>SINGLE BACON SMOKEHOUSE BURGER</td></tr><tr><td>435</td><td>PICO GUACAMOLE 1/4 LB BURGER</td></tr><tr><td>436</td><td>FRESCO SOFT TACO</td></tr><tr><td>437</td><td>\"6\"\" TURKEY BREAST\"</td></tr><tr><td>438</td><td>REGULAR CHEESE CURDS</td></tr><tr><td>439</td><td>ROAST BEEF SALAD</td></tr><tr><td>440</td><td>VEGGIE BURGER W/ KETCHUP</td></tr><tr><td>441</td><td>TURKEY BLT SANDWICH</td></tr><tr><td>442</td><td>BURRITO SUPREME® - CHICKEN</td></tr><tr><td>443</td><td>CANTINA POWER BOWL - STEAK</td></tr><tr><td>444</td><td>QUARTER POUNDER® WITH CHEESE</td></tr><tr><td>445</td><td>CRISPY SIGNATURE SRIRACHA CHICKEN SANDWICH</td></tr><tr><td>446</td><td>SWEET BBQ BACON 1/4 LB BURGER</td></tr><tr><td>447</td><td>ALL BEEF CHILI CHEESE CONEY – 6\"\"</td></tr><tr><td>448</td><td>HOMESTYLE CHEESEBURGER</td></tr><tr><td>449</td><td>DOUBLE BACON SMOKEHOUSE BURGER</td></tr><tr><td>450</td><td>SUPER SONIC BACON DOUBLE CHEESEBURGER (W/MAYO)</td></tr><tr><td>451</td><td>4 PIECE SUPER CRUNCH CHICKEN STRIPS</td></tr><tr><td>452</td><td>CHICKEN MOZZARELLA SANDWICH</td></tr><tr><td>453</td><td>RODEO KING</td></tr><tr><td>454</td><td>FOOTLONG ROTISSERIE STYLE CHICKEN</td></tr><tr><td>455</td><td>NACHOS SUPREME</td></tr><tr><td>456</td><td>3 PIECE SUPER CRUNCH CHICKEN STRIP DINNER</td></tr><tr><td>457</td><td>ORIGINAL TRIPLE DOUBLE CRUNCHWRAP</td></tr><tr><td>458</td><td>PIZZA SLIDER</td></tr><tr><td>459</td><td>CHICKEN BLT SALAD W/ CRISPY CHICKEN</td></tr><tr><td>460</td><td>B.L.T. SALAD</td></tr><tr><td>461</td><td>12 PIECE BUTTERMILK CRISPY CHICKEN TENDERS</td></tr><tr><td>462</td><td>ARBY-Q SANDWICH</td></tr><tr><td>463</td><td>SPICY SWEET DOUBLE STACKED TACO</td></tr><tr><td>464</td><td>PREMIUM BACON RANCH SALAD W/ GRILLED CHICKEN</td></tr><tr><td>465</td><td>PRETZEL CHICKEN FRIES</td></tr><tr><td>466</td><td>\"6\"\" CARVED TURKEY & BACON W/ CHEESE\"</td></tr><tr><td>467</td><td>CANTINA POWER BURRITO - CHICKEN</td></tr><tr><td>468</td><td>NACHO CHEESE DORITOS® LOCOS TACOS</td></tr><tr><td>469</td><td>GRILLED CHICKEN BLT SALAD</td></tr><tr><td>470</td><td>SUPER SONIC DOUBLE CHEESEBURGER W/ MUSTARD</td></tr><tr><td>471</td><td>GRILLED CHICKEN WRAP</td></tr><tr><td>472</td><td>FRESCO BEAN BURRITO</td></tr><tr><td>473</td><td>SOFT TACO SUPREME® – BEEF</td></tr><tr><td>474</td><td>BUTTERMILK CRISPY CHICKEN SANDWICH</td></tr><tr><td>475</td><td>FOOTLONG SWEET ONION CHICKEN TERIYAKI</td></tr><tr><td>476</td><td>ARBY'S MELT</td></tr><tr><td>477</td><td>CHALUPA SUPREME® - STEAK</td></tr><tr><td>478</td><td>BLT CRUNCHWRAP SLIDER</td></tr><tr><td>479</td><td>THE ORIGINAL PRETZEL DOG</td></tr><tr><td>480</td><td>BACON CHEDDAR RANCH CHICKEN SALAD W/ GRILLED CHICKEN & DRESSING</td></tr><tr><td>481</td><td>BK VEGGIE BURGER</td></tr><tr><td>482</td><td>CRISPY CHICKEN JR.</td></tr><tr><td>483</td><td>JALAPENO BURGER</td></tr><tr><td>484</td><td>FIRE-ROASTED PHILLY STEAK</td></tr><tr><td>485</td><td>LOADED ITALIAN SANDWICH</td></tr><tr><td>486</td><td>CHICKEN QUESALUPA</td></tr><tr><td>487</td><td>3 PIECE BUTTERMILK CRISPY CHICKEN TENDERS</td></tr><tr><td>488</td><td>BOURBON BBQ CHICKEN SANDWICH</td></tr><tr><td>489</td><td>ORIGINAL DOUBLE CHEESEBURGER</td></tr><tr><td>490</td><td>FOOTLONG VEGGIE DELITE</td></tr><tr><td>491</td><td>4 PIECE CHICK-N-STRIPS</td></tr><tr><td>492</td><td>BACON CHEDDAR RANCH CHICKEN SALAD W/ CRISPY CHICKEN & DRESSING</td></tr><tr><td>493</td><td>GORDITA SUPREME® - CHICKEN</td></tr><tr><td>494</td><td>HALF POUND FRENCH DIP & SWISS</td></tr><tr><td>495</td><td>DOUBLE CHEESY GORDITA CRUNCH</td></tr><tr><td>496</td><td>SONIC BURGER W/ MAYONNAISE</td></tr><tr><td>497</td><td>HAMBURGER</td></tr><tr><td>498</td><td>CHOPPED SIDE SALAD</td></tr><tr><td>499</td><td>STEAKHOUSE KING</td></tr><tr><td>500</td><td>FOOTLONG CARVED TURKEY & BACON W/ CHEESE</td></tr><tr><td>501</td><td>30 PIECE CHICKEN NUGGETS</td></tr><tr><td>502</td><td>\"6\"\" CARVED TURKEY\"</td></tr><tr><td>503</td><td>FOOTLONG SUBWAY CLUB</td></tr></tbody></table></div>"
      ]
     },
     "metadata": {
      "application/vnd.databricks.v1+output": {
       "addedWidgets": {},
       "aggData": [],
       "aggError": "",
       "aggOverflow": false,
       "aggSchema": [],
       "aggSeriesLimitReached": false,
       "aggType": "",
       "arguments": {},
       "columnCustomDisplayInfos": {},
       "data": [
        [
         1,
         "SONIC CHEESEBURGER W/ MUSTARD"
        ],
        [
         2,
         "FOOTLONG CORNED BEEF REUBEN"
        ],
        [
         3,
         "\"6\"\" SUBWAY CLUB\""
        ],
        [
         4,
         "SONIC BURGER W/ KETCHUP"
        ],
        [
         5,
         "ALL BEEF ALL-AMERICAN STYLE DOG – 6\"\""
        ],
        [
         6,
         "CLASSIC FRENCH DIP & SWISS/AU JUS"
        ],
        [
         7,
         "CHILI CHEESE MEGA DOG"
        ],
        [
         8,
         "BBQ BACON KING"
        ],
        [
         9,
         "CRISPY BUFFALO CHICKEN MELT"
        ],
        [
         10,
         "OVEN ROASTED CHICKEN SALAD"
        ],
        [
         11,
         "CHICKEN DELUXE"
        ],
        [
         12,
         "CHICKEN, APPLE & CRANBERRY SALAD W/ CRISPY CHICKEN"
        ],
        [
         13,
         "DELUXE DOUBLE HAMBURGER"
        ],
        [
         14,
         "FOOTLONG TURKEY ITALIANO MELT (WITH PROVOLONE)"
        ],
        [
         15,
         "CLASSIC CHICKEN SANDWICH"
        ],
        [
         16,
         "4 PIECE CHICKEN MCNUGGETS"
        ],
        [
         17,
         "HALF POUND BEEF 'N CHEDDAR SANDWICH"
        ],
        [
         18,
         "CHIPOTLE CRISPY CHICKEN GRILLER"
        ],
        [
         19,
         "ROAST TURKEY FARMHOUSE SALAD"
        ],
        [
         20,
         "\"6\"\" ROTISSERIE STYLE CHICKEN\""
        ],
        [
         21,
         "PREMIUM BACON RANCH SALAD W/ CRISPY CHICKEN"
        ],
        [
         22,
         "SPICY DELUXE"
        ],
        [
         23,
         "DOUBLE BACON CHEESEBURGER"
        ],
        [
         24,
         "CRISPY CHICKEN BLT SALAD"
        ],
        [
         25,
         "NACHO CHEESE DORITOS® LOCOS TACOS SUPREME"
        ],
        [
         26,
         "\"6\"\" CORNED BEEF REUBEN\""
        ],
        [
         27,
         "JALAPENO ROAST BEEF 'N CHEESE SLIDER"
        ],
        [
         28,
         "SOURDOUGH KING DOUBLE"
        ],
        [
         29,
         "BACON CHEESE DOG"
        ],
        [
         30,
         "\"6\"\" BIG HOT PASTRAMI\""
        ],
        [
         31,
         "TUNA SALAD"
        ],
        [
         32,
         "CHALUPA SUPREME® - CHICKEN"
        ],
        [
         33,
         "MEXICAN PIZZA"
        ],
        [
         34,
         "FOOTLONG STEAK AND CHEESE"
        ],
        [
         35,
         "1/2 LB. GRILLBURGER WITH CHEESE"
        ],
        [
         36,
         "\"6\"\" TUNA\""
        ],
        [
         37,
         "COOL RANCH® DORITOS® LOCOS TACO SUPREME"
        ],
        [
         38,
         "GARLIC WHITE CHEDDAR BURGER"
        ],
        [
         39,
         "HATCH GREEN CHILE CHEESEBURGER"
        ],
        [
         40,
         "CORNED BEEF 'N CHEESE SLIDER"
        ],
        [
         41,
         "DELUXE HAMBURGER"
        ],
        [
         42,
         "DQ ULTIMATE® BURGER"
        ],
        [
         43,
         "SHREDDED CHICKEN MINI QUESADILLA"
        ],
        [
         44,
         "CARVED TURKEY SALAD"
        ],
        [
         45,
         "MILD NAKED CHICKEN CHALUPA"
        ],
        [
         46,
         "SPICY CHICKEN CRUNCHWRAP SLIDER"
        ],
        [
         47,
         "REGULAR GRILLED CHICKEN SUB SANDWICH"
        ],
        [
         48,
         "DORITOS® CHEESY GORDITA CRUNCH - FIERY"
        ],
        [
         49,
         "BEEF CRUNCHY CHEESY CORE BURRITO"
        ],
        [
         50,
         "FRESCO CHICKEN SOFT TACO"
        ],
        [
         51,
         "1/2 LB.* COMBO BURRITO"
        ],
        [
         52,
         "CHEESY BEAN AND RICE BURRITO"
        ],
        [
         53,
         "SPICY CHICKEN NUGGETS"
        ],
        [
         54,
         "FOOTLONG SPICY ITALIAN"
        ],
        [
         55,
         "7-LAYER BURRITO"
        ],
        [
         56,
         "10 PIECE SWEET N' SPICY HONEY BBQ GLAZED TENDERS"
        ],
        [
         57,
         "\"6\"\" COLD CUT COMBO\""
        ],
        [
         58,
         "6 PIECE SWEET N' SPICY HONEY BBQ GLAZED TENDERS"
        ],
        [
         59,
         "4 PIECE CHICKEN STRIP BASKET W/ COUNTRY GRAVY"
        ],
        [
         60,
         "BURRITO SUPREME® – BEEF"
        ],
        [
         61,
         "XXL GRILLED STUFT BURRITO - STEAK"
        ],
        [
         62,
         "4 PIECE SWEET N' SPICY HONEY BBQ GLAZED TENDERS"
        ],
        [
         63,
         "ALL BEEF NEW YORK DOG – 6\"\""
        ],
        [
         64,
         "TRIPLE MELT BURRITO"
        ],
        [
         65,
         "FOOTLONG ITALIAN HERO"
        ],
        [
         66,
         "LARGE JUMBO POPCORN CHICKEN"
        ],
        [
         67,
         "20 PIECE CHICKEN MCNUGGETS"
        ],
        [
         68,
         "PREMIUM ASIAN SALAD W/ GRILLED CHICKEN"
        ],
        [
         69,
         "BACON KING JR"
        ],
        [
         70,
         "FARMHOUSE KING"
        ],
        [
         71,
         "CHICKEN FRIES"
        ],
        [
         72,
         "SPICY TRIPLE DOUBLE CRUNCHWRAP"
        ],
        [
         73,
         "WILD NAKED CHICKEN CHALUPA"
        ],
        [
         74,
         "ROAST TURKEY & SWISS SANDWICH"
        ],
        [
         75,
         "GREEK GYRO"
        ],
        [
         76,
         "\"6\"\" TURKEY & BACON AVOCADO\""
        ],
        [
         77,
         "CHARGRILLED CHICKEN COOL WRAP"
        ],
        [
         78,
         "GRILLED CHICKEN SANDWICH"
        ],
        [
         79,
         "\"6\"\" B.L.T.\""
        ],
        [
         80,
         "BIG PHILLY CHEESESTEAK SALAD"
        ],
        [
         81,
         "XXL GRILLED STUFT BURRITO - BEEF"
        ],
        [
         82,
         "TRIPLE MELT NACHOS"
        ],
        [
         83,
         "SONIC BURGER W/ MUSTARD"
        ],
        [
         84,
         "FOOTLONG VEGGIE PATTY"
        ],
        [
         85,
         "CARVED TURKEY & BACON W/ CHEESE SALAD"
        ],
        [
         86,
         "CHICKEN STRIP SANDWICH"
        ],
        [
         87,
         "3 PIECE CRISPY CHICKEN TENDER DINNER"
        ],
        [
         88,
         "STEAK SPICY CHEESY CORE BURRITO"
        ],
        [
         89,
         "NACHO CHEESE DORITOS® DOUBLE DECKER® TACO"
        ],
        [
         90,
         "GRILLED HOT DOG"
        ],
        [
         91,
         "BIG MAC"
        ],
        [
         92,
         "6 PIECE CHICKEN MCNUGGETS"
        ],
        [
         93,
         "BEEF 'N CHEDDAR CLASSIC"
        ],
        [
         94,
         "SOFT TACO-BEEF"
        ],
        [
         95,
         "LOBSTER ROLL"
        ],
        [
         96,
         "LOADED POTATO GRILLER"
        ],
        [
         97,
         "ROAST TURKEY, RANCH & BACON WRAP"
        ],
        [
         98,
         "\"6\"\" SUBWAY MELT (INCLUDES CHEESE)\""
        ],
        [
         99,
         "SUBWAY CLUB SALAD"
        ],
        [
         100,
         "GRAND TURKEY CLUB"
        ],
        [
         101,
         "GRILLED STEAK SOFT TACO"
        ],
        [
         102,
         "FRESCO BURRITO SUPREME® – STEAK"
        ],
        [
         103,
         "\"6\"\" STEAK AND CHEESE\""
        ],
        [
         104,
         "PREMIUM SOUTHWEST SALAD W/ CRISPY CHICKEN"
        ],
        [
         105,
         "BACON KING"
        ],
        [
         106,
         "STEAK FINGER BASKET"
        ],
        [
         107,
         "SMOTHERED BURRITO - BEEF"
        ],
        [
         108,
         "CHICKEN BURGER"
        ],
        [
         109,
         "GRILLED CHILI CHEESE DOG"
        ],
        [
         110,
         "CHEESE DOG"
        ],
        [
         111,
         "\"6\"\" SWEET ONION CHICKEN TERIYAKI\""
        ],
        [
         112,
         "CHICKEN & BACON RANCH MELT SALAD (INCLUDES RANCH DRESSING)"
        ],
        [
         113,
         "DORITOS® CHEESY GORDITA CRUNCH - NACHO CHEESE"
        ],
        [
         114,
         "FIESTA TACO SALAD-BEEF"
        ],
        [
         115,
         "ROAST TURKEY, RANCH & BACON SANDWICH"
        ],
        [
         116,
         "CANTINA POWER BOWL - CHICKEN"
        ],
        [
         117,
         "DOUBLE TOSTADA"
        ],
        [
         118,
         "JR. DELUXE BURGER"
        ],
        [
         119,
         "SIDE CAESAR SALAD WITH DRESSING"
        ],
        [
         120,
         "MCDOUBLE"
        ],
        [
         121,
         "CRISPY ASIAGO CAESAR CHICKEN CLUB SANDWICH"
        ],
        [
         122,
         "SMALL SPICY JUMBO POPCORN CHICKEN"
        ],
        [
         123,
         "SMOKEHOUSE BEEF SHORT RIB SANDWICH"
        ],
        [
         124,
         "FOOTLONG ROAST BEEF"
        ],
        [
         125,
         "FIERY DORITOS® DOUBLE DECKER® TACO"
        ],
        [
         126,
         "STEAK QUESALUPA"
        ],
        [
         127,
         "PREMIUM SOUTHWEST SALAD W/O CHICKEN"
        ],
        [
         128,
         "4 PIECE SUPER CRUNCH CHICKEN STRIP DINNER"
        ],
        [
         129,
         "\"6\"\" ITALIAN B.M.T.\""
        ],
        [
         130,
         "STEAK CRUNCHY CHEESY CORE BURRITO"
        ],
        [
         131,
         "BEEFY MINI QUESADILLA"
        ],
        [
         132,
         "PREMIUM ASIAN SALAD W/ CRISPY CHICKEN"
        ],
        [
         133,
         "4 PIECE CHICKEN NUGGETS"
        ],
        [
         134,
         "BACON CHEESEBURGER"
        ],
        [
         135,
         "GORDITA SUPREME® - STEAK"
        ],
        [
         136,
         "4 PIECE BUTTERMILK CRISPY CHICKEN TENDERS"
        ],
        [
         137,
         "6 PIECE BUTTERMILK CRISPY CHICKEN TENDERS"
        ],
        [
         138,
         "PREMIUM ASIAN SALAD W/O CHICKEN"
        ],
        [
         139,
         "PREMIUM BACON RANCH SALAD W/O CHICKEN"
        ],
        [
         140,
         "FOOTLONG CARVED TURKEY"
        ],
        [
         141,
         "\"6\"\" TURKEY BREAST & HAM\""
        ],
        [
         142,
         "CHEESE & VEGGIES PIZZA"
        ],
        [
         143,
         "DOUBLE DECKER® TACO"
        ],
        [
         144,
         "STEAK QUESADILLA"
        ],
        [
         145,
         "CRISPY MAPLE BACON DIJON CHICKEN SANDWICH"
        ],
        [
         146,
         "FOOTLONG TURKEY & BACON AVOCADO"
        ],
        [
         147,
         "COLD CUT COMBO SALAD"
        ],
        [
         148,
         "1/4 LB. BACON CHEESE GRILLBURGER"
        ],
        [
         149,
         "JR. BURGER"
        ],
        [
         150,
         "AUTUMN CARVED TURKEY SALAD"
        ],
        [
         151,
         "SPICY ITALIAN SALAD"
        ],
        [
         152,
         "TURKEY 'N CHEESE SLIDER"
        ],
        [
         153,
         "SPICY CHICKEN SANDWICH"
        ],
        [
         154,
         "GRILLED ASIAGO CAESAR CHICKEN CLUB SANDWICH"
        ],
        [
         155,
         "CRISPY PICO GUACAMOLE CHICKEN SANDWICH"
        ],
        [
         156,
         "PECAN CHICKEN SALAD FLATBREAD"
        ],
        [
         157,
         "KIDS MINI SUB TURKEY BREAST"
        ],
        [
         158,
         "2 PIECE CHICK-N-STRIPS"
        ],
        [
         159,
         "DOUBLE ROAST BEEF"
        ],
        [
         160,
         "WHOPPER JR. W/ CHEESE"
        ],
        [
         161,
         "FRESCO BURRITO SUPREME® – CHICKEN"
        ],
        [
         162,
         "CHEESE QUESADILLA"
        ],
        [
         163,
         "CHEESY BACON PRETZEL DOG - 6 IN."
        ],
        [
         164,
         "ROAST BEEF GYRO"
        ],
        [
         165,
         "CHICKEN, APPLE & CRANBERRY SALAD W/ GRILLED CHICKEN"
        ],
        [
         166,
         "FOOTLONG CHICKEN & BACON RANCH MELT"
        ],
        [
         167,
         "8 PIECE CHICKEN NUGGETS"
        ],
        [
         168,
         "SMALL JUMBO POPCORN CHICKEN"
        ],
        [
         169,
         "CHICKEN CAESAR SALAD W/ GRILLED CHICKEN"
        ],
        [
         170,
         "SUPER SONIC DOUBLE CHEESEBURGER W/ MAYO"
        ],
        [
         171,
         "FOOTLONG BIG HOT PASTRAMI"
        ],
        [
         172,
         "COOL RANCH HABANERO DOUBLE STACKED TACO"
        ],
        [
         173,
         "DOUBLE CHEESEBURGER"
        ],
        [
         174,
         "BOURBON BBQ BRISKET SANDWICH"
        ],
        [
         175,
         "SMOKE MOUNTAIN W/ BEEF SHORT RIB"
        ],
        [
         176,
         "DOUBLE DECKER® TACO SUPREME®"
        ],
        [
         177,
         "GORDITA SUPREME® – BEEF"
        ],
        [
         178,
         "CHILI CHEESE BURRITO"
        ],
        [
         179,
         "PECAN CHICKEN SALAD SANDWICH"
        ],
        [
         180,
         "DOUBLE HAMBURGER"
        ],
        [
         181,
         "SOURDOUGH CHICKEN CLUB"
        ],
        [
         182,
         "CHICKEN SOFT TACO"
        ],
        [
         183,
         "CLASSIC ROAST BEEF"
        ],
        [
         184,
         "2 PIECE PRIME-CUT CHICKEN TENDERS"
        ],
        [
         185,
         "6 PIECE GRILLED CHICKEN NUGGETS"
        ],
        [
         186,
         "FOOTLONG B.L.T."
        ],
        [
         187,
         "6 PIECE CHICKEN NUGGETS"
        ],
        [
         188,
         "1/4 LB. MUSHROOM SWISS GRILLBURGER"
        ],
        [
         189,
         "CHALUPA SUPREME®–BEEF"
        ],
        [
         190,
         "BACON CHEESEBURGER DELUXE"
        ],
        [
         191,
         "CHICKEN SANDWICH"
        ],
        [
         192,
         "FOOTLONG TURKEY BREAST & HAM"
        ],
        [
         193,
         "20 PIECE BUTTERMILK CRISPY CHICKEN TENDERS"
        ],
        [
         194,
         "EXTRA LONG CHEESEBURGER"
        ],
        [
         195,
         "CRISPY CHICKEN WRAP"
        ],
        [
         196,
         "BOURBON BBQ STEAK SANDWICH"
        ],
        [
         197,
         "FOOTLONG BIG PHILLY CHEESESTEAK"
        ],
        [
         198,
         "1/4 LB. GRILLBURGER WITH CHEESE"
        ],
        [
         199,
         "COOL RANCH® DORITOS® DOUBLE DECKER® TACO"
        ],
        [
         200,
         "SUPER SONIC JALAPENO DOUBLE CHEESEBURGER"
        ],
        [
         201,
         "\"6\"\" OVEN ROASTED CHICKEN\""
        ],
        [
         202,
         "CANTINA POWER BURRITO - STEAK"
        ],
        [
         203,
         "3 PIECE PRIME-CUT CHICKEN TENDERS"
        ],
        [
         204,
         "BACON & CHEESE WHOPPER"
        ],
        [
         205,
         "TURKEY BREAST SALAD"
        ],
        [
         206,
         "CHICKSTAR"
        ],
        [
         207,
         "CRISPY GARLIC WHITE CHEDDAR CHICKEN SANDWICH"
        ],
        [
         208,
         "BIG FISH SANDWICH"
        ],
        [
         209,
         "CHICKEN CORDON BLEU SANDWICH"
        ],
        [
         210,
         "CANTINA POWER BURRITO - VEGGIE"
        ],
        [
         211,
         "DOUBLE QUARTER POUNDER® WITH CHEESE"
        ],
        [
         212,
         "BUTTERMILK CHICKEN BACON & SWISS"
        ],
        [
         213,
         "GREEK GYRO SALAD"
        ],
        [
         214,
         "BBQ BACON CRISPY CHICKEN SANDWICH"
        ],
        [
         215,
         "BEEF QUESALUPA"
        ],
        [
         216,
         "REUBEN SANDWICH"
        ],
        [
         217,
         "1/2 LB. FLAMETHROWER® GRILLBURGER"
        ],
        [
         218,
         "BEEF SPICY CHEESY CORE BURRITO"
        ],
        [
         219,
         "FILET-O-FISH®"
        ],
        [
         220,
         "MAPLE BACON DIJON 1/4 LB BURGER"
        ],
        [
         221,
         "\"6\"\" MEATBALL MARINARA\""
        ],
        [
         222,
         "FOOTLONG OVEN ROASTED CHICKEN"
        ],
        [
         223,
         "CRISPY CHICKEN QUESADILLA"
        ],
        [
         224,
         "GRILLED SIGNATURE SRIRACHA CHICKEN SANDWICH"
        ],
        [
         225,
         "RODEO BURGER"
        ],
        [
         226,
         "BEAN BURRITO"
        ],
        [
         227,
         "CHICKEN SALAD SANDWICH"
        ],
        [
         228,
         "ROAST BEEF 'N CHEESE SLIDER"
        ],
        [
         229,
         "FOOTLONG BBQ RIB SANDWICH"
        ],
        [
         230,
         "BLACK BEAN BURRITO"
        ],
        [
         231,
         "CRUNCHY TACO SUPREME®"
        ],
        [
         232,
         "JR. CHILI CHEESEBURGER"
        ],
        [
         233,
         "FOOTLONG QUARTER POUND CONEY"
        ],
        [
         234,
         "CRISPY SWEET BBQ BACON CHICKEN SANDWICH"
        ],
        [
         235,
         "GRILLED SWEET BBQ BACON CHICKEN SANDWICH"
        ],
        [
         236,
         "SUPER GREEK SALAD"
        ],
        [
         237,
         "PREMIUM SOUTHWEST SALAD W/ GRILLED CHICKEN"
        ],
        [
         238,
         "SONIC CHEESEBURGER W/ KETCHUP"
        ],
        [
         239,
         "GRILLED CHICKEN GARDEN GREENS SALAD"
        ],
        [
         240,
         "BEEFY FRITOS® BURRITO"
        ],
        [
         241,
         "DORITOS® CHEESY GORDITA CRUNCH - COOL RANCH"
        ],
        [
         242,
         "CHICKEN TENDER 'N CHEESE SLIDER"
        ],
        [
         243,
         "WHOPPER W/ CHEESE"
        ],
        [
         244,
         "\"6\"\" SUBWAY SEAFOOD SENSATION\""
        ],
        [
         245,
         "CHEESE ROLL-UP"
        ],
        [
         246,
         "EXPRESS TACO SALAD W/ CHIPS"
        ],
        [
         247,
         "FIERY DORITOS® LOCOS TACO"
        ],
        [
         248,
         "STACKER"
        ],
        [
         249,
         "CRISPY BACON SMOKEHOUSE CHICKEN SANDWICH"
        ],
        [
         250,
         "ORIGINAL CHEESEBURGER"
        ],
        [
         251,
         "FOOTLONG COLD CUT COMBO"
        ],
        [
         252,
         "BEEFY CHEDDAR CRUNCHWRAP SLIDER"
        ],
        [
         253,
         "SONIC CHEESEBURGER W/ MAYONNAISE"
        ],
        [
         254,
         "GARLIC PARMESAN DUNKED ULTIMATE CHICKEN SANDWICH"
        ],
        [
         255,
         "\"6\"\" BIG PHILLY CHEESESTEAK\""
        ],
        [
         256,
         "\"6\"\" SPICY ITALIAN\""
        ],
        [
         257,
         "SWEET ONION CHICKEN TERIYAKI SALAD"
        ],
        [
         258,
         "ROTISSERIE-STYLE CHICKEN CAESAR WRAP"
        ],
        [
         259,
         "VEGGIE BURGER WITH MUSTARD"
        ],
        [
         260,
         "HAM & SWISS MELT"
        ],
        [
         261,
         "HAM 'N CHEESE SLIDER"
        ],
        [
         262,
         "\"6\"\" TURKEY ITALIANO MELT (WITH PROVOLONE)\""
        ],
        [
         263,
         "SMOKEHOUSE BBQ BACON SANDWICH"
        ],
        [
         264,
         "CORN DOG"
        ],
        [
         265,
         "GRILLED BACON SMOKEHOUSE CHICKEN SANDWICH"
        ],
        [
         266,
         "CHICKEN ENCHILADAS MEAL KIT"
        ],
        [
         267,
         "BREADED MUSHROOMS"
        ],
        [
         268,
         "\"6\"\" ROAST BEEF\""
        ],
        [
         269,
         "CHICKEN QUESARITO"
        ],
        [
         270,
         "MCCHICKEN"
        ],
        [
         271,
         "FOOTLONG TURKEY BREAST"
        ],
        [
         272,
         "BUFFALO CHICKEN SLIDER"
        ],
        [
         273,
         "FOOTLONG SUBWAY MELT (INCLUDES CHEESE)"
        ],
        [
         274,
         "BACON & SWISS SOURDOUGH KING"
        ],
        [
         275,
         "SIDE GARDEN SALAD AND AVOCADO RANCH DRESSING"
        ],
        [
         276,
         "MEXIMELT®"
        ],
        [
         277,
         "CHEESE PIZZA"
        ],
        [
         278,
         "12 PIECE GRILLED CHICKEN NUGGETS"
        ],
        [
         279,
         "RODEO CRISPY CHICKEN SANDWICH"
        ],
        [
         280,
         "STEAK QUESARITO"
        ],
        [
         281,
         "CHEESEBURGER"
        ],
        [
         282,
         "SPICY TOSTADA"
        ],
        [
         283,
         "8 PIECE GRILLED CHICKEN NUGGETS"
        ],
        [
         284,
         "5 PIECE SUPER CRUNCH CHICKEN STRIPS"
        ],
        [
         285,
         "PORK TENDERLOIN SANDWICH"
        ],
        [
         286,
         "\"6\"\" VEGGIE PATTY\""
        ],
        [
         287,
         "DOUBLE CHICKEN SALAD"
        ],
        [
         288,
         "BUTTERMILK CHICKEN CORDON BLEU SANDWICH"
        ],
        [
         289,
         "MEATBALL MARINARA SALAD"
        ],
        [
         290,
         "FRESCO CRUNCHY TACO"
        ],
        [
         291,
         "3 PIECE SUPER CRUNCH CHICKEN STRIPS"
        ],
        [
         292,
         "CRISPY CHICKEN FARMHOUSE SALAD"
        ],
        [
         293,
         "TURKEY BREAST & HAM SALAD"
        ],
        [
         294,
         "GRILLED MAPLE BACON DIJON CHICKEN SANDWICH"
        ],
        [
         295,
         "SPICY GRILLED CHICKEN SUB SANDWICH"
        ],
        [
         296,
         "JALAPENO CHICKEN FRIES"
        ],
        [
         297,
         "SMOKEHOUSE BRISKET"
        ],
        [
         298,
         "PREMIUM BUTTERMILK CRISPY CHICKEN DELUXE SANDWICH"
        ],
        [
         299,
         "\"6\"\" CHICKEN & BACON RANCH MELT\""
        ],
        [
         300,
         "BIG HOT PASTRAMI MELT SALAD"
        ],
        [
         301,
         "BEEF 'N CHEDDAR MID"
        ],
        [
         302,
         "FIERY DORITOS® LOCOS TACO SUPREME"
        ],
        [
         303,
         "DOUBLE QUARTER POUND KING"
        ],
        [
         304,
         "CHILI DOG"
        ],
        [
         305,
         "BLACK FOREST HAM SALAD"
        ],
        [
         306,
         "ITALIAN B.M.T.® SALAD"
        ],
        [
         307,
         "4 PIECE SPICY CHICKEN NUGGETS"
        ],
        [
         308,
         "FOOTLONG ITALIAN B.M.T."
        ],
        [
         309,
         "VEGGIE DELITE SALAD"
        ],
        [
         310,
         "TURKEY AVOCADO CLUB"
        ],
        [
         311,
         "SOURDOUGH KING SINGLE"
        ],
        [
         312,
         "GARDEN GRILLED CHICKEN SALAD W/ CRISPY CHICKEN, NO DRESSING"
        ],
        [
         313,
         "NACHO CRUNCH DOUBLE STACKED TACO"
        ],
        [
         314,
         "CHEESY GORDITA CRUNCH"
        ],
        [
         315,
         "5 PIECE PRIME-CUT CHICKEN TENDERS"
        ],
        [
         316,
         "CRISPY FISH SANDWICH"
        ],
        [
         317,
         "\"6\"\" ITALIAN HERO\""
        ],
        [
         318,
         "FOOTLONG SUBWAY SEAFOOD SENSATION"
        ],
        [
         319,
         "1/2 LB.* CHEESY POTATO BURRITO"
        ],
        [
         320,
         "CANTINA POWER BOWL - VEGGIE"
        ],
        [
         321,
         "HALF POUND ROAST BEEF SANDWICH"
        ],
        [
         322,
         "FOOTLONG CHICKEN PIZZIOLA MELT"
        ],
        [
         323,
         "\"6\"\" VEGGIE DELITE\""
        ],
        [
         324,
         "SMOTHERED BURRITO - SHREDDED CHICKEN"
        ],
        [
         325,
         "CHILI CHEESE DOG"
        ],
        [
         326,
         "SPICY DOUBLE CHALUPA"
        ],
        [
         327,
         "GRILLED PICO GUACAMOLE CHICKEN SANDWICH"
        ],
        [
         328,
         "PREMIUM CRISPY CHICKEN DELUXE SANDWICH"
        ],
        [
         329,
         "ALL BEEF CHICAGO DOG – 6\"\""
        ],
        [
         330,
         "CHICKEN BACON RANCH SANDWICH"
        ],
        [
         331,
         "FRESCO GRILLED STEAK SOFT TACO"
        ],
        [
         332,
         "VEGGIE BURGER W/ MUSTARD"
        ],
        [
         333,
         "SPICY CRISPY CHICKEN JR."
        ],
        [
         334,
         "NACHOS BELLGRANDE®"
        ],
        [
         335,
         "JR. DOUBLE CHEESEBURGER"
        ],
        [
         336,
         "ULTIMATE BLT"
        ],
        [
         337,
         "SAUSAGE PIZZA"
        ],
        [
         338,
         "10 PIECE BUTTERMILK CRISPY CHICKEN TENDERS"
        ],
        [
         339,
         "DELUXE ULTIMATE CHICKEN SANDWICH"
        ],
        [
         340,
         "ULTIMATE CHICKEN CLUB"
        ],
        [
         341,
         "BUTTERMILK BUFFALO CHICKEN SANDWICH"
        ],
        [
         342,
         "CHICKEN BLT SALAD W/ GRILLED CHICKEN"
        ],
        [
         343,
         "FOOTLONG BLACK FOREST HAM"
        ],
        [
         344,
         "MCRIB"
        ],
        [
         345,
         "TRADITIONAL ULTIMATE CHICKEN SANDWICH"
        ],
        [
         346,
         "DOUBLE WHOPPER W/O CHEESE"
        ],
        [
         347,
         "KIDS MINI SUB ROAST BEEF"
        ],
        [
         348,
         "CHICKEN PARMESAN SANDWICH"
        ],
        [
         349,
         "SPICY CRISPY JALAPENO CHICKEN SANDWICH"
        ],
        [
         350,
         "6 PIECE CHICKEN STRIP BASKET W/ COUNTRY GRAVY"
        ],
        [
         351,
         "MUSHROOM & SWISS KING"
        ],
        [
         352,
         "BEEFY 5-LAYER BURRITO"
        ],
        [
         353,
         "GRILLED GARLIC WHITE CHEDDAR CHICKEN SANDWICH"
        ],
        [
         354,
         "RELISH DOG"
        ],
        [
         355,
         "3 CHICKEN STRIPS CHICKEN STRIPS"
        ],
        [
         356,
         "DOUBLE CHALUPA"
        ],
        [
         357,
         "4 PIECE GRILLED CHICKEN NUGGETS"
        ],
        [
         358,
         "ALL BEEF REGULAR HOT DOG – 6\"\""
        ],
        [
         359,
         "\"6\"\" BBQ RIB SANDWICH\""
        ],
        [
         360,
         "WHOPPER JR. W/O CHEESE"
        ],
        [
         361,
         "CRUNCHY TACO"
        ],
        [
         362,
         "THREE CHEESE STEAK SANDWICH"
        ],
        [
         363,
         "FIESTA TACO SALAD-CHICKEN"
        ],
        [
         364,
         "BURRITO SUPREME® - STEAK"
        ],
        [
         365,
         "BEEFY NACHO GRILLER"
        ],
        [
         366,
         "12 PIECE CHICKEN NUGGETS"
        ],
        [
         367,
         "BUFFALO DUNKED ULTIMATE CHICKEN SANDWICH"
        ],
        [
         368,
         "KIDS MINI SUB BLACK FOREST HAM"
        ],
        [
         369,
         "CHIPOTLE SOUTHWEST STEAK & CHEESE WRAP"
        ],
        [
         370,
         "CHARGRILLED CHICKEN CLUB SANDWICH"
        ],
        [
         371,
         "3 PIECE CHICK-N-STRIPS"
        ],
        [
         372,
         "TURKEY GYRO"
        ],
        [
         373,
         "SMOTHERED BURRITO - STEAK"
        ],
        [
         374,
         "TRIPLE LAYER NACHOS"
        ],
        [
         375,
         "CHICKEN NUGGETS (10PC)"
        ],
        [
         376,
         "CRUNCHWRAP SUPREME®"
        ],
        [
         377,
         "LARGE CHEESE CURDS"
        ],
        [
         378,
         "SONIC BACON CHEESEBURGER (W/MAYO)"
        ],
        [
         379,
         "PEPPERONI PIZZA"
        ],
        [
         380,
         "COOL RANCH® DORITOS® LOCOS TACO"
        ],
        [
         381,
         "CHICKEN QUESADILLA"
        ],
        [
         382,
         "FOOTLONG MEATBALL MARINARA"
        ],
        [
         383,
         "SUPER SONIC DOUBLE CHEESEBURGER W/ KETCHUP"
        ],
        [
         384,
         "20 PIECE CHICKEN NUGGETS"
        ],
        [
         385,
         "SPICY CRISPY CHICKEN SANDWICH"
        ],
        [
         386,
         "BARBECUE PORK SANDWICH"
        ],
        [
         387,
         "JR. DELUXE CHEESEBURGER"
        ],
        [
         388,
         "CRISPY CHICKEN GARDEN GREENS SALAD"
        ],
        [
         389,
         "CRISPY CHICKEN SANDWICH"
        ],
        [
         390,
         "ITALIAN HERO SALAD"
        ],
        [
         391,
         "SUBWAY MELT® SALAD"
        ],
        [
         392,
         "CHICKEN CRUNCHY CHEESY CORE BURRITO"
        ],
        [
         393,
         "LOADED TACO BURRITO"
        ],
        [
         394,
         "ORIGINAL CHICKEN SANDWICH"
        ],
        [
         395,
         "NACHO FRIES BELLGRANDE"
        ],
        [
         396,
         "CHICK-N-SLIDER"
        ],
        [
         397,
         "HOT DOG"
        ],
        [
         398,
         "TURKEY, BACON & GUACAMOLE WRAP"
        ],
        [
         399,
         "SHREDDED CHICKEN BURRITO"
        ],
        [
         400,
         "40 PIECE CHICKEN MCNUGGETS"
        ],
        [
         401,
         "SIDE SALAD"
        ],
        [
         402,
         "SUPER ROAST BEEF"
        ],
        [
         403,
         "JALAPENO KING SANDWICH"
        ],
        [
         404,
         "\"6\"\" CHICKEN PIZZIOLA MELT\""
        ],
        [
         405,
         "10 PIECE CHICKEN MCNUGGETS"
        ],
        [
         406,
         "5 PIECE CRISPY CHICKEN TENDER DINNER"
        ],
        [
         407,
         "LARGE SPICY JUMBO POPCORN CHICKEN"
        ],
        [
         408,
         "BACON CHEDDAR RANCH CRISPY CHICKEN SANDWICH"
        ],
        [
         409,
         "FIESTA TACO SALAD-STEAK"
        ],
        [
         410,
         "1 PIECE CHICK-N-STRIPS"
        ],
        [
         411,
         "FOOTLONG TUNA"
        ],
        [
         412,
         "BUFFALO CHICKEN SALAD (WITH RANCH DRESSING)"
        ],
        [
         413,
         "TRIPLE DECKER SANDWICH"
        ],
        [
         414,
         "ARTISAN GRILLED CHICKEN SANDWICH"
        ],
        [
         415,
         "SIGNATURE SRIRACHA BURGER"
        ],
        [
         416,
         "WHOPPER W/O CHEESE"
        ],
        [
         417,
         "GARDEN GRILLED CHICKEN SALAD W/ GRILLED CHICKEN, NO DRESSING"
        ],
        [
         418,
         "\"6\"\" BLACK FOREST HAM\""
        ],
        [
         419,
         "BEEF QUESARITO"
        ],
        [
         420,
         "AMERICAN BREWHOUSE KING"
        ],
        [
         421,
         "DOUBLE WHOPPER W/ CHEESE"
        ],
        [
         422,
         "DELUXE DOUBLE CHEESEBURGER"
        ],
        [
         423,
         "STEAK & CHEESE SALAD"
        ],
        [
         424,
         "KIDS MINI SUB VEGGIE DELITE"
        ],
        [
         425,
         "CHICKEN PARMESAN MEAL KIT"
        ],
        [
         426,
         "DELUXE CHEESEBURGER"
        ],
        [
         427,
         "CHARGRILLED CHICKEN SANDWICH"
        ],
        [
         428,
         "ROAST TURKEY & SWISS WRAP"
        ],
        [
         429,
         "5 PIECE SUPER CRUNCH CHICKEN STRIP DINNER"
        ],
        [
         430,
         "CHICKEN CAESAR SALAD W/ CRISPY CHICKEN"
        ],
        [
         431,
         "CHICKEN SPICY CHEESY CORE BURRITO"
        ],
        [
         432,
         "XXL GRILLED STUFT BURRITO - CHICKEN"
        ],
        [
         433,
         "SPICY POTATO SOFT TACO"
        ],
        [
         434,
         "SINGLE BACON SMOKEHOUSE BURGER"
        ],
        [
         435,
         "PICO GUACAMOLE 1/4 LB BURGER"
        ],
        [
         436,
         "FRESCO SOFT TACO"
        ],
        [
         437,
         "\"6\"\" TURKEY BREAST\""
        ],
        [
         438,
         "REGULAR CHEESE CURDS"
        ],
        [
         439,
         "ROAST BEEF SALAD"
        ],
        [
         440,
         "VEGGIE BURGER W/ KETCHUP"
        ],
        [
         441,
         "TURKEY BLT SANDWICH"
        ],
        [
         442,
         "BURRITO SUPREME® - CHICKEN"
        ],
        [
         443,
         "CANTINA POWER BOWL - STEAK"
        ],
        [
         444,
         "QUARTER POUNDER® WITH CHEESE"
        ],
        [
         445,
         "CRISPY SIGNATURE SRIRACHA CHICKEN SANDWICH"
        ],
        [
         446,
         "SWEET BBQ BACON 1/4 LB BURGER"
        ],
        [
         447,
         "ALL BEEF CHILI CHEESE CONEY – 6\"\""
        ],
        [
         448,
         "HOMESTYLE CHEESEBURGER"
        ],
        [
         449,
         "DOUBLE BACON SMOKEHOUSE BURGER"
        ],
        [
         450,
         "SUPER SONIC BACON DOUBLE CHEESEBURGER (W/MAYO)"
        ],
        [
         451,
         "4 PIECE SUPER CRUNCH CHICKEN STRIPS"
        ],
        [
         452,
         "CHICKEN MOZZARELLA SANDWICH"
        ],
        [
         453,
         "RODEO KING"
        ],
        [
         454,
         "FOOTLONG ROTISSERIE STYLE CHICKEN"
        ],
        [
         455,
         "NACHOS SUPREME"
        ],
        [
         456,
         "3 PIECE SUPER CRUNCH CHICKEN STRIP DINNER"
        ],
        [
         457,
         "ORIGINAL TRIPLE DOUBLE CRUNCHWRAP"
        ],
        [
         458,
         "PIZZA SLIDER"
        ],
        [
         459,
         "CHICKEN BLT SALAD W/ CRISPY CHICKEN"
        ],
        [
         460,
         "B.L.T. SALAD"
        ],
        [
         461,
         "12 PIECE BUTTERMILK CRISPY CHICKEN TENDERS"
        ],
        [
         462,
         "ARBY-Q SANDWICH"
        ],
        [
         463,
         "SPICY SWEET DOUBLE STACKED TACO"
        ],
        [
         464,
         "PREMIUM BACON RANCH SALAD W/ GRILLED CHICKEN"
        ],
        [
         465,
         "PRETZEL CHICKEN FRIES"
        ],
        [
         466,
         "\"6\"\" CARVED TURKEY & BACON W/ CHEESE\""
        ],
        [
         467,
         "CANTINA POWER BURRITO - CHICKEN"
        ],
        [
         468,
         "NACHO CHEESE DORITOS® LOCOS TACOS"
        ],
        [
         469,
         "GRILLED CHICKEN BLT SALAD"
        ],
        [
         470,
         "SUPER SONIC DOUBLE CHEESEBURGER W/ MUSTARD"
        ],
        [
         471,
         "GRILLED CHICKEN WRAP"
        ],
        [
         472,
         "FRESCO BEAN BURRITO"
        ],
        [
         473,
         "SOFT TACO SUPREME® – BEEF"
        ],
        [
         474,
         "BUTTERMILK CRISPY CHICKEN SANDWICH"
        ],
        [
         475,
         "FOOTLONG SWEET ONION CHICKEN TERIYAKI"
        ],
        [
         476,
         "ARBY'S MELT"
        ],
        [
         477,
         "CHALUPA SUPREME® - STEAK"
        ],
        [
         478,
         "BLT CRUNCHWRAP SLIDER"
        ],
        [
         479,
         "THE ORIGINAL PRETZEL DOG"
        ],
        [
         480,
         "BACON CHEDDAR RANCH CHICKEN SALAD W/ GRILLED CHICKEN & DRESSING"
        ],
        [
         481,
         "BK VEGGIE BURGER"
        ],
        [
         482,
         "CRISPY CHICKEN JR."
        ],
        [
         483,
         "JALAPENO BURGER"
        ],
        [
         484,
         "FIRE-ROASTED PHILLY STEAK"
        ],
        [
         485,
         "LOADED ITALIAN SANDWICH"
        ],
        [
         486,
         "CHICKEN QUESALUPA"
        ],
        [
         487,
         "3 PIECE BUTTERMILK CRISPY CHICKEN TENDERS"
        ],
        [
         488,
         "BOURBON BBQ CHICKEN SANDWICH"
        ],
        [
         489,
         "ORIGINAL DOUBLE CHEESEBURGER"
        ],
        [
         490,
         "FOOTLONG VEGGIE DELITE"
        ],
        [
         491,
         "4 PIECE CHICK-N-STRIPS"
        ],
        [
         492,
         "BACON CHEDDAR RANCH CHICKEN SALAD W/ CRISPY CHICKEN & DRESSING"
        ],
        [
         493,
         "GORDITA SUPREME® - CHICKEN"
        ],
        [
         494,
         "HALF POUND FRENCH DIP & SWISS"
        ],
        [
         495,
         "DOUBLE CHEESY GORDITA CRUNCH"
        ],
        [
         496,
         "SONIC BURGER W/ MAYONNAISE"
        ],
        [
         497,
         "HAMBURGER"
        ],
        [
         498,
         "CHOPPED SIDE SALAD"
        ],
        [
         499,
         "STEAKHOUSE KING"
        ],
        [
         500,
         "FOOTLONG CARVED TURKEY & BACON W/ CHEESE"
        ],
        [
         501,
         "30 PIECE CHICKEN NUGGETS"
        ],
        [
         502,
         "\"6\"\" CARVED TURKEY\""
        ],
        [
         503,
         "FOOTLONG SUBWAY CLUB"
        ]
       ],
       "datasetInfos": [],
       "dbfsResultPath": null,
       "isJsonSchema": true,
       "metadata": {},
       "overflow": false,
       "plotOptions": {
        "customPlotOptions": {},
        "displayType": "table",
        "pivotAggregation": null,
        "pivotColumns": null,
        "xColumns": null,
        "yColumns": null
       },
       "removedWidgets": [],
       "schema": [
        {
         "metadata": "{}",
         "name": "ID_PRATOS",
         "type": "\"long\""
        },
        {
         "metadata": "{}",
         "name": "PRATOS",
         "type": "\"string\""
        }
       ],
       "type": "table"
      }
     },
     "output_type": "display_data"
    }
   ],
   "source": [
    "display(df_pratos)"
   ]
  },
  {
   "cell_type": "code",
   "execution_count": 0,
   "metadata": {
    "application/vnd.databricks.v1+cell": {
     "cellMetadata": {
      "byteLimit": 2048000,
      "rowLimit": 10000
     },
     "inputWidgets": {},
     "nuid": "a4a958c5-3f9d-4f09-86a3-9abc5fef7f37",
     "showTitle": true,
     "title": "Salvar Tabela \"silver_pratos\""
    }
   },
   "outputs": [],
   "source": [
    "tabela_destino= \"silver_pratos\"\n",
    "\n",
    "df_pratos.write.format(\"delta\").mode(\"overwrite\").save(caminho_destino + tabela_destino)"
   ]
  }
 ],
 "metadata": {
  "application/vnd.databricks.v1+notebook": {
   "dashboards": [],
   "language": "python",
   "notebookMetadata": {
    "mostRecentlyExecutedCommandWithImplicitDF": {
     "commandId": -1,
     "dataframes": [
      "_sqldf"
     ]
    },
    "pythonIndentUnit": 4
   },
   "notebookName": "silver_fast_food",
   "widgets": {}
  }
 },
 "nbformat": 4,
 "nbformat_minor": 0
}
